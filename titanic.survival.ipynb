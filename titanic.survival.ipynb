{
 "cells": [
  {
   "cell_type": "markdown",
   "metadata": {},
   "source": [
    "# **Titanic Passenger Survival Prediction**\n",
    "### **Predicting Passenger Survival on the Titanic using Decision Tree Algorithm**\n",
    "## **Mercy Consolate Akello**\n",
    "## **2024-01-11**"
   ]
  },
  {
   "cell_type": "markdown",
   "metadata": {},
   "source": [
    "## **Load data**"
   ]
  },
  {
   "cell_type": "code",
   "execution_count": null,
   "metadata": {
    "vscode": {
     "languageId": "r"
    }
   },
   "outputs": [],
   "source": [
    "library(readr)\n",
    "titanic <- read_csv(\"~/Active Documents/My Documents/CodSoft/Data Science Internship/datasets/titanic.csv\")"
   ]
  },
  {
   "cell_type": "markdown",
   "metadata": {},
   "source": [
    "### **Check for missing data**"
   ]
  },
  {
   "cell_type": "code",
   "execution_count": null,
   "metadata": {
    "vscode": {
     "languageId": "r"
    }
   },
   "outputs": [],
   "source": [
    "colSums(is.na(titanic))"
   ]
  },
  {
   "cell_type": "markdown",
   "metadata": {},
   "source": [
    "### **Check for duplicates**"
   ]
  },
  {
   "cell_type": "code",
   "execution_count": null,
   "metadata": {
    "vscode": {
     "languageId": "r"
    }
   },
   "outputs": [],
   "source": [
    "duplicated(titanic)"
   ]
  },
  {
   "cell_type": "markdown",
   "metadata": {},
   "source": [
    "### **Remove unnecessary variables**"
   ]
  },
  {
   "cell_type": "code",
   "execution_count": null,
   "metadata": {
    "vscode": {
     "languageId": "r"
    }
   },
   "outputs": [],
   "source": [
    "library(dplyr)\n",
    "titanic=titanic%>%\n",
    "  select(-c('PassengerId','Name','Ticket','Cabin'))\n"
   ]
  },
  {
   "cell_type": "markdown",
   "metadata": {},
   "source": [
    "### **Convert data type**"
   ]
  },
  {
   "cell_type": "code",
   "execution_count": null,
   "metadata": {
    "vscode": {
     "languageId": "r"
    }
   },
   "outputs": [],
   "source": [
    "titanic$Survived=as.factor(titanic$Survived)\n",
    "titanic$Pclass=as.factor(titanic$Pclass)\n",
    "titanic$Sex=as.factor(titanic$Sex)\n",
    "titanic$Embarked=as.factor(titanic$Embarked)"
   ]
  },
  {
   "cell_type": "markdown",
   "metadata": {},
   "source": [
    "## **Exploratory Data Analysis**\n",
    "\n",
    "### **Numeric variable**"
   ]
  },
  {
   "cell_type": "code",
   "execution_count": null,
   "metadata": {
    "vscode": {
     "languageId": "r"
    }
   },
   "outputs": [],
   "source": [
    "library(ggplot2)\n",
    "\n",
    "ggplot(titanic,aes(Age))+\n",
    "  geom_histogram(bins=25,fill='#03E2ED')+\n",
    "  theme_classic()+\n",
    "  theme(axis.text.x=element_text(size=8,face = 'bold',color='black'),\n",
    "        axis.text.y=element_text(size=8,face='bold',color='black'))+\n",
    "  labs(title = 'Distribution of Age',y='Count of Passengers')"
   ]
  },
  {
   "cell_type": "code",
   "execution_count": null,
   "metadata": {
    "vscode": {
     "languageId": "r"
    }
   },
   "outputs": [],
   "source": [
    "ggplot(titanic,aes(Fare))+\n",
    "  geom_histogram(bins=25,fill='#03E2ED')+\n",
    "  theme_classic()+\n",
    "  theme(axis.text.x=element_text(size=8,face = 'bold',color='black'),\n",
    "        axis.text.y=element_text(size=8,face='bold',color='black'))+\n",
    "  labs(title = 'Distribution of Fare',y='Count of Passengers')"
   ]
  },
  {
   "cell_type": "code",
   "execution_count": null,
   "metadata": {
    "vscode": {
     "languageId": "r"
    }
   },
   "outputs": [],
   "source": [
    "ggplot(titanic,aes(Age,Fare))+\n",
    "  geom_point(color='#03E2ED')+\n",
    "  geom_smooth(method = 'lm', se=F,color='maroon')+\n",
    "  theme_classic()+\n",
    "  theme(axis.text.x=element_text(size=8,face = 'bold',color='black'),\n",
    "        axis.text.y=element_text(size=8,face='bold',color='black'))+\n",
    "  labs(title = 'Distribution of Age by Survived')"
   ]
  },
  {
   "cell_type": "markdown",
   "metadata": {},
   "source": [
    "### **Categorical variable**"
   ]
  },
  {
   "cell_type": "code",
   "execution_count": null,
   "metadata": {
    "vscode": {
     "languageId": "r"
    }
   },
   "outputs": [],
   "source": [
    "ggplot(titanic,aes(Survived))+\n",
    "  geom_bar(fill='#03E2ED')+\n",
    "  theme_classic()+\n",
    "  theme(axis.text.x=element_text(size=8,face = 'bold',color='black'),\n",
    "        axis.text.y=element_text(size=8,face='bold',color='black'))+\n",
    "  labs(title = 'Passenger Survival',y='Count of Passengers')"
   ]
  },
  {
   "cell_type": "code",
   "execution_count": null,
   "metadata": {
    "vscode": {
     "languageId": "r"
    }
   },
   "outputs": [],
   "source": [
    "ggplot(titanic,aes(Survived,Age))+\n",
    "  geom_boxplot(fill='#03E2ED')+\n",
    "  theme_classic()+\n",
    "  theme(axis.text.x=element_text(size=8,face = 'bold',color='black'),\n",
    "        axis.text.y=element_text(size=8,face='bold',color='black'))+\n",
    "  labs(title = 'Distribution of Age by Survived')"
   ]
  },
  {
   "cell_type": "code",
   "execution_count": null,
   "metadata": {
    "vscode": {
     "languageId": "r"
    }
   },
   "outputs": [],
   "source": [
    "ggplot(titanic,aes(Survived,Fare))+\n",
    "  geom_boxplot(fill='#03E2ED')+\n",
    "  theme_classic()+\n",
    "  theme(axis.text.x=element_text(size=8,face = 'bold',color='black'),\n",
    "        axis.text.y=element_text(size=8,face='bold',color='black'))+\n",
    "  labs(title = 'Distribution of Fare by Survived')"
   ]
  },
  {
   "cell_type": "code",
   "execution_count": null,
   "metadata": {
    "vscode": {
     "languageId": "r"
    }
   },
   "outputs": [],
   "source": [
    "ggplot(titanic,aes(Pclass,Fare))+\n",
    "  geom_boxplot(fill='#03E2ED')+\n",
    "  theme_classic()+\n",
    "  theme(axis.text.x=element_text(size=8,face = 'bold',color='black'),\n",
    "        axis.text.y=element_text(size=8,face='bold',color='black'))+\n",
    "  labs(title = 'Distribution of Fare by Pclass')"
   ]
  },
  {
   "cell_type": "code",
   "execution_count": null,
   "metadata": {
    "vscode": {
     "languageId": "r"
    }
   },
   "outputs": [],
   "source": [
    "ggplot(titanic,aes(Embarked,Fare))+\n",
    "  geom_boxplot(fill='#03E2ED')+\n",
    "  theme_classic()+\n",
    "  theme(axis.text.x=element_text(size=8,face = 'bold',color='black'),\n",
    "        axis.text.y=element_text(size=8,face='bold',color='black'))+\n",
    "  labs(title = 'Distribution of Fare by Embarked')"
   ]
  },
  {
   "cell_type": "markdown",
   "metadata": {},
   "source": [
    "## **Split dataset into two**"
   ]
  },
  {
   "cell_type": "code",
   "execution_count": null,
   "metadata": {
    "vscode": {
     "languageId": "r"
    }
   },
   "outputs": [],
   "source": [
    "library(caTools)\n",
    "set.seed(13579)\n",
    "sample=sample.split(titanic$Survived,SplitRatio=.70)\n",
    "train=subset(titanic,sample==TRUE)\n",
    "test=subset(titanic,!sample==TRUE)"
   ]
  },
  {
   "cell_type": "markdown",
   "metadata": {},
   "source": [
    "## **Build a Decision Tree model**"
   ]
  },
  {
   "cell_type": "code",
   "execution_count": null,
   "metadata": {
    "vscode": {
     "languageId": "r"
    }
   },
   "outputs": [],
   "source": [
    "library(rpart)\n",
    "dt.model=rpart(Survived~.,train)"
   ]
  },
  {
   "cell_type": "markdown",
   "metadata": {},
   "source": [
    "## **Make a prediction using test data**"
   ]
  },
  {
   "cell_type": "code",
   "execution_count": null,
   "metadata": {
    "vscode": {
     "languageId": "r"
    }
   },
   "outputs": [],
   "source": [
    "dt.model.test=predict(dt.model, test, type='class')"
   ]
  },
  {
   "cell_type": "markdown",
   "metadata": {},
   "source": [
    "## **Model Performance Evaluation**"
   ]
  },
  {
   "cell_type": "code",
   "execution_count": null,
   "metadata": {
    "vscode": {
     "languageId": "r"
    }
   },
   "outputs": [],
   "source": [
    "library(caret)\n",
    "tad=table(test$Survived, dt.model.test)\n",
    "confusionMatrix(tad)"
   ]
  }
 ],
 "metadata": {
  "kernelspec": {
   "display_name": "R",
   "language": "R",
   "name": "ir"
  },
  "language_info": {
   "codemirror_mode": "r",
   "file_extension": ".r",
   "mimetype": "text/x-r-source",
   "name": "R",
   "pygments_lexer": "r",
   "version": "3.6.1"
  }
 },
 "nbformat": 4,
 "nbformat_minor": 2
}
